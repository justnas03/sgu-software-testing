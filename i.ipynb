{
 "cells": [
  {
   "cell_type": "code",
   "execution_count": 3,
   "metadata": {},
   "outputs": [
    {
     "name": "stdout",
     "output_type": "stream",
     "text": [
      "Phương trình có 2 nghiệm phân biệt x1 = -0.0998007960222651 và x2 = 50.099800796022265\n"
     ]
    }
   ],
   "source": [
    "def ptb2(a, b, c):\n",
    "    if a == 0:\n",
    "        if b == 0:\n",
    "            if c == 0:\n",
    "                return \"Phương trình vô số nghiệm\"\n",
    "            else:\n",
    "                return \"Phương trình vô nghiệm\"\n",
    "        else:\n",
    "            return \"Phương trình có nghiệm x = \" + str(-c/b)\n",
    "    if a != 0:\n",
    "        delta = b**2 - 4*a*c\n",
    "        if delta < 0:\n",
    "            return \"Phương trình vô nghiệm\"\n",
    "        elif delta == 0:\n",
    "            return \"Phương trình có nghiệm kép x = \" + str(-b/(2*a))\n",
    "        else:\n",
    "            return \"Phương trình có 2 nghiệm phân biệt x1 = \" + str((-b + delta**0.5)/(2*a)) + \" và x2 = \" + str((-b - delta**0.5)/(2*a))\n",
    "\n",
    "\n",
    "print(ptb2(-1,50,5))"
   ]
  },
  {
   "cell_type": "code",
   "execution_count": null,
   "metadata": {},
   "outputs": [],
   "source": []
  }
 ],
 "metadata": {
  "kernelspec": {
   "display_name": "Python 3",
   "language": "python",
   "name": "python3"
  },
  "language_info": {
   "codemirror_mode": {
    "name": "ipython",
    "version": 3
   },
   "file_extension": ".py",
   "mimetype": "text/x-python",
   "name": "python",
   "nbconvert_exporter": "python",
   "pygments_lexer": "ipython3",
   "version": "3.11.5"
  }
 },
 "nbformat": 4,
 "nbformat_minor": 2
}
