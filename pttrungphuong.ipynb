{
 "cells": [
  {
   "cell_type": "markdown",
   "metadata": {},
   "source": [
    "#TEST PHUONG TRINH TRUNG PHUONG"
   ]
  },
  {
   "cell_type": "code",
   "execution_count": 1,
   "metadata": {},
   "outputs": [
    {
     "name": "stdout",
     "output_type": "stream",
     "text": [
      "----------------\n",
      "source of pttrungphuong.py\n",
      "----------------\n",
      "def ptb2(a, b, c):\n",
      "    if a == 0:\n",
      "        if b == 0:\n",
      "            if c == 0:\n",
      "                print(\"Phương trình vô số nghiệm\")\n",
      "            else:\n",
      "                print(\"Phương trình vô nghiệm\")\n",
      "        else:\n",
      "            print(\"Phương trình có nghiệm x = {:.4f}\".format(-c/b))\n",
      "    if a != 0:\n",
      "        delta = b**2 - 4*a*c\n",
      "        if delta < 0:\n",
      "            print(\"Phương trình vô nghiệm\")\n",
      "        elif delta == 0:\n",
      "            print(\"Phương trình có nghiệm kép x = {:.4f}\".format(-b/(2*a)))\n",
      "        else:\n",
      "            print(\"Phương trình có 2 nghiệm phân biệt x1 = {:.4f} và x2 = {:.4f}\".format((-b + delta**0.5)/(2*a), (-b - delta**0.5)/(2*a)))\n",
      "\n",
      "def pttrungphuong(a, b, c):\n",
      "    if a == 0:\n",
      "        print(f\"Do a=0 nên phương trình quy về phương trình bậc 2.\\n\")\n",
      "        ptb2(b, c, 0)\n",
      "        return\n",
      "    else:\n",
      "        # đặt t tính delta\n",
      "        delta = b**2 - 4*a*c\n",
      "        if delta < 0:\n",
      "            print(\"Phương trình vô nghiệm\")\n",
      "        elif delta == 0: \n",
      "            t = -b / (2*a)\n",
      "            if t < 0:\n",
      "                print(\"Phương trình vô nghiệm\")\n",
      "            elif t == 0:\n",
      "                print(\"Phương trình có nghiệm x = 0\")\n",
      "            else:\n",
      "                print(\"Phương trình có hai nghiệm x1 = {:.4f} và x2 = {:.4f}\".format(t**0.5, -(t**0.5))) # nghiệm của pt (*) là +-sqrt(t)\n",
      "        #delta > 0\n",
      "        else: \n",
      "            #thay t vào t1, t2\n",
      "            t1 = (-b + delta**0.5) / (2*a)\n",
      "            t2 = (-b - delta**0.5) / (2*a)\n",
      "\n",
      "            nghiem = []\n",
      "            if t1 > 0:\n",
      "                nghiem.append(t1**0.5)\n",
      "                nghiem.append(-(t1**0.5))\n",
      "            elif t1 == 0:\n",
      "                nghiem.append(0)\n",
      "            if t2 > 0:\n",
      "                nghiem.append(t2**0.5)\n",
      "                nghiem.append(-(t2**0.5))\n",
      "            elif t2 == 0:\n",
      "                nghiem.append(0)\n",
      "\n",
      "            if len(nghiem) == 0:\n",
      "                print(\"Phương trình vô nghiệm\")\n",
      "            elif len(nghiem) == 1:\n",
      "                print(\"Phương trình có nghiệm x = {:.4f}\".format(nghiem[0]))\n",
      "            elif len(nghiem) == 2:\n",
      "                print(\"Phương trình có hai nghiệm x1 = {:.4f} và x2 = {:.4f}\".format(nghiem[0], nghiem[1]))\n",
      "            else:\n",
      "                print(\"Phương trình có bốn nghiệm x1 = {:.4f}, x2 = {:.4f}, x3 = {:.4f} và x4 = {:.4f}\".format(nghiem[0], nghiem[1], nghiem[2], nghiem[3]))\n",
      "\n",
      "def main():\n",
      "    s = input()\n",
      "    a,b,c = [float(x) for x in s.split(\" \")]\n",
      "    pttrungphuong(a, b, c)\n",
      "\n",
      "if __name__ == \"__main__\":\n",
      "    main()\n",
      "---------------\n"
     ]
    }
   ],
   "source": [
    "!echo ----------------\n",
    "!echo source of pttrungphuong.py\n",
    "!echo ----------------\n",
    "!type pttrungphuong.py\n",
    "!echo ---------------"
   ]
  },
  {
   "cell_type": "code",
   "execution_count": 3,
   "metadata": {},
   "outputs": [
    {
     "name": "stdout",
     "output_type": "stream",
     "text": [
      "Writing pttp_test.in1\n"
     ]
    }
   ],
   "source": [
    "%%writefile pttp_test.in1\n",
    "-1 6 8"
   ]
  },
  {
   "cell_type": "code",
   "execution_count": 4,
   "metadata": {},
   "outputs": [
    {
     "name": "stdout",
     "output_type": "stream",
     "text": [
      "Writing pttp_test.in2\n"
     ]
    }
   ],
   "source": [
    "%%writefile pttp_test.in2\n",
    "20 100 -23"
   ]
  },
  {
   "cell_type": "code",
   "execution_count": 9,
   "metadata": {},
   "outputs": [
    {
     "name": "stdout",
     "output_type": "stream",
     "text": [
      "Overwriting pttp_test.in3\n"
     ]
    }
   ],
   "source": [
    "%%writefile pttp_test.in3\n",
    "1 -6 8"
   ]
  },
  {
   "cell_type": "code",
   "execution_count": 10,
   "metadata": {},
   "outputs": [
    {
     "name": "stdout",
     "output_type": "stream",
     "text": [
      "Test1\n"
     ]
    },
    {
     "name": "stdout",
     "output_type": "stream",
     "text": [
      "Phương trình có hai nghiệm x1 = 2.6689 và x2 = -2.6689\n",
      "Test2\n",
      "Phương trình có hai nghiệm x1 = 0.4694 và x2 = -0.4694\n",
      "Test3\n",
      "Phương trình có bốn nghiệm x1 = 2.0000, x2 = -2.0000, x3 = 1.4142 và x4 = -1.4142\n"
     ]
    }
   ],
   "source": [
    "!echo Test1\n",
    "!python pttrungphuong.py < pttp_test.in1\n",
    "!echo Test2\n",
    "!python pttrungphuong.py < pttp_test.in2\n",
    "!echo Test3\n",
    "!python pttrungphuong.py < pttp_test.in3"
   ]
  },
  {
   "cell_type": "markdown",
   "metadata": {},
   "source": [
    "#END"
   ]
  }
 ],
 "metadata": {
  "kernelspec": {
   "display_name": "venv",
   "language": "python",
   "name": "python3"
  },
  "language_info": {
   "codemirror_mode": {
    "name": "ipython",
    "version": 3
   },
   "file_extension": ".py",
   "mimetype": "text/x-python",
   "name": "python",
   "nbconvert_exporter": "python",
   "pygments_lexer": "ipython3",
   "version": "3.11.5"
  }
 },
 "nbformat": 4,
 "nbformat_minor": 2
}
