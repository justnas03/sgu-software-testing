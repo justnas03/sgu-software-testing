{
 "cells": [
  {
   "cell_type": "markdown",
   "metadata": {},
   "source": [
    "#TEST PHUONG TRINH TRUNG PHUONG"
   ]
  },
  {
   "cell_type": "code",
   "execution_count": 26,
   "metadata": {},
   "outputs": [
    {
     "name": "stdout",
     "output_type": "stream",
     "text": [
      "Overwriting pttrungphuong.py\n"
     ]
    }
   ],
   "source": [
    "%%writefile pttrungphuong.py\n",
    "\n",
    "printd = print\n",
    "# printd = lambda *argc,**argv:()\n",
    "\n",
    "def giaiptb2(a,b,c):\n",
    "    import math\n",
    "    x1,x2,sn = None, None, None\n",
    "    if a == 0: \n",
    "        if b == 0:\n",
    "            if c == 0:\n",
    "                sn = -1\n",
    "            else:\n",
    "                sn = 0\n",
    "        else: \n",
    "            sn = 1\n",
    "            x1 = -c/b\n",
    "    else: \n",
    "        delta = b**2 - 4*a*c\n",
    "        if delta < 0:\n",
    "            sn = 0\n",
    "        elif delta == 0:\n",
    "            sn = 1\n",
    "            x1 = -b/2*a\n",
    "        elif delta > 0:\n",
    "            sn = 2\n",
    "            x1 = (-b+math.sqrt(delta))/2*a\n",
    "            x2 = (-b-math.sqrt(delta))/2*a\n",
    "            \n",
    "    return x1,x2,sn\n",
    "\n",
    "\n",
    "\n",
    "def pttp(a,b,c):\n",
    "    import math\n",
    "    sn,x1,x2,x3,x4 = None, None, None, None, None\n",
    "\n",
    "\n",
    "    t1,t2,snt = giaiptb2(a,b,c)\n",
    "\n",
    "    if snt == -1:\n",
    "        sn = -1\n",
    "    elif snt == 0:\n",
    "        sn = 0\n",
    "    elif snt == 1 and t1 < 0:\n",
    "        sn = 0\n",
    "    elif snt == 1 and t1 == 0:\n",
    "        sn = 1\n",
    "        x1 = 0\n",
    "    elif snt == 1 and t1 > 0:\n",
    "        sn = 2\n",
    "        x1 = -math.sqrt(t1)\n",
    "        x2 = math.sqrt(t1)\n",
    "    elif snt == 1 and t2 < 0:\n",
    "        sn = 0\n",
    "    elif snt == 1 and t2 == 0:\n",
    "        sn = 1\n",
    "        x1 = 0\n",
    "    elif snt == 1 and t2 > 0:\n",
    "        sn = 1\n",
    "        x1 = -math.sqrt(t2)\n",
    "        x2 = math.sqrt(t2)\n",
    "    elif snt == 2 and t1 == 0 and t2 > 0:\n",
    "        sn = 3\n",
    "        x1 = 0\n",
    "        x2 = -math.sqrt(t2)\n",
    "        x3 = math.sqrt(t2)\n",
    "    elif snt == 2 and t1 > 0 and t2 == 0: \n",
    "        sn = 3\n",
    "        x1 = 0\n",
    "        x2 = -math.sqrt(t1)\n",
    "        x3 = math.sqrt(t1)\n",
    "    elif snt == 2 and t1 > 0 and t2 > 0:\n",
    "        sn = 4\n",
    "        x1 = -math.sqrt(t1)\n",
    "        x2 = math.sqrt(t1)\n",
    "        x3 = -math.sqrt(t2)\n",
    "        x4 = math.sqrt(t2)\n",
    "\n",
    "    return sn,x1,x2,x3,x4\n",
    "\n",
    "def main():\n",
    "    s = input()\n",
    "    printd(s.split(\" \"))\n",
    "    a,b,c = [float(i) for i in s.split(\" \") ]\n",
    "    printd(a,b,c)\n",
    "\n",
    "    sn,x1,x2,x3,x4 = pttp(a,b,c)\n",
    "    printd(sn, x1,x2,x3,x4)\n",
    "\n",
    "    if sn == -1:\n",
    "        print(f\"Phương trình vô số nghiệm\")\n",
    "    elif sn == 0:\n",
    "        print(f\"Phương trình vô nghiệm\")\n",
    "    elif sn == 1:\n",
    "        print(f\"Phương trình có 1 nghiệm x = {x1}\")\n",
    "    elif sn == 2:\n",
    "        print(f\"Phương trình có 2 nghiệm x1 = {x1}; x2 = {x2}\")\n",
    "    elif sn == 3:\n",
    "        print(f\"Phương trình có 3 nghiệm x1 = {x1}; x2 = {x2}; x3 = {x3}\")\n",
    "    elif sn == 4:\n",
    "        print(f\"Phương trình có 4 nghiệm x1 = {x1}; x2 = {x2}; x3 = {x3}; x4 = {x4}\")\n",
    "        \n",
    "if __name__ == \"__main__\":\n",
    "    main()\n"
   ]
  },
  {
   "cell_type": "code",
   "execution_count": 21,
   "metadata": {},
   "outputs": [
    {
     "name": "stdout",
     "output_type": "stream",
     "text": [
      "----------------\n",
      "source of pttrungphuong.py\n",
      "----------------\n",
      "\n",
      "printd = print\n",
      "# printd = lambda *argc,**argv:()\n",
      "\n",
      "def giaiptb2(a,b,c):\n",
      "    import math\n",
      "    x1,x2,sn = None, None, None\n",
      "    if a == 0: \n",
      "        if b == 0:\n",
      "            if c == 0:\n",
      "                sn = -1\n",
      "            else:\n",
      "                sn = 0\n",
      "        else: \n",
      "            sn = 1\n",
      "            x1 = -c/b\n",
      "    else: \n",
      "        delta = b**2 - 4*a*c\n",
      "        if delta < 0:\n",
      "            sn = 0\n",
      "        elif delta == 0:\n",
      "            sn = 1\n",
      "            x1 = -b/2*a\n",
      "        elif delta > 0:\n",
      "            sn = 2\n",
      "            x1 = (-b+math.sqrt(delta))/2*a\n",
      "            x2 = (-b-math.sqrt(delta))/2*a\n",
      "            \n",
      "    return x1,x2,sn\n",
      "\n",
      "\n",
      "\n",
      "def pttp(a,b,c):\n",
      "    import math\n",
      "    sn,x1,x2,x3,x4 = None, None, None, None, None\n",
      "\n",
      "\n",
      "    t1,t2,snt = giaiptb2(a,b,c)\n",
      "\n",
      "    if snt == -1:\n",
      "        sn = -1\n",
      "    elif snt == 0:\n",
      "        sn = 0\n",
      "    elif snt == 1 and t1 < 0:\n",
      "        sn = 0\n",
      "    elif snt == 1 and t1 == 0:\n",
      "        sn = 1\n",
      "        x1 = 0\n",
      "    elif snt == 1 and t1 > 0:\n",
      "        sn = 2\n",
      "        x1 = -math.sqrt(t1)\n",
      "        x2 = math.sqrt(t1)\n",
      "    elif snt == 1 and t2 < 0:\n",
      "        sn = 0\n",
      "    elif snt == 1 and t2 == 0:\n",
      "        sn = 1\n",
      "        x1 = 0\n",
      "    elif snt == 1 and t2 > 0:\n",
      "        sn = 1\n",
      "        x1 = -math.sqrt(t2)\n",
      "        x2 = math.sqrt(t2)\n",
      "    elif snt == 2 and t1 == 0 and t2 > 0:\n",
      "        sn = 3\n",
      "        x1 = 0\n",
      "        x2 = -math.sqrt(t2)\n",
      "        x3 = math.sqrt(t2)\n",
      "    elif snt == 2 and t1 > 0 and t2 == 0: \n",
      "        sn = 3\n",
      "        x1 = 0\n",
      "        x2 = -math.sqrt(t1)\n",
      "        x3 = math.sqrt(t1)\n",
      "    elif snt == 2 and t1 > 0 and t2 > 0:\n",
      "        sn = 4\n",
      "        x1 = -math.sqrt(t1)\n",
      "        x2 = math.sqrt(t1)\n",
      "        x3 = -math.sqrt(t2)\n",
      "        x4 = math.sqrt(t2)\n",
      "\n",
      "    return sn,x1,x2,x3,x4\n",
      "\n",
      "def main():\n",
      "    s = input()\n",
      "    printd(s.split(\" \"))\n",
      "    a,b,c = [float(i) for i in s.split(\" \") ]\n",
      "    printd(a,b,c)\n",
      "\n",
      "    sn,x1,x2,x3,x4 = pttp(a,b,c)\n",
      "    printd(sn, x1,x2,x3,x4)\n",
      "\n",
      "    if sn == -1:\n",
      "        print(f\"Phương trình vô số nghiệm\")\n",
      "    elif sn == 0:\n",
      "        print(f\"Phương trình vô nghiệm\")\n",
      "    elif sn == 1:\n",
      "        print(f\"Phương trình có 1 nghiệm x = {x1}\")\n",
      "    elif sn == 2:\n",
      "        print(f\"Phương trình có 2 nghiệm x1 = {x1}; x2 = {x2}\")\n",
      "    elif sn == 3:\n",
      "        print(f\"Phương trình có 3 nghiệm x1 = {x1}; x2 = {x2}; x3 = {x3}\")\n",
      "    elif sn == 4:\n",
      "        print(f\"Phương trình có 4 nghiệm x1 = {x1}; x2 = {x2}; x3 = {x3}; x4 = {x4}\")\n",
      "\n",
      "\n",
      "if __name__ == \"__main__\":\n",
      "    main()\n",
      "---------------\n"
     ]
    }
   ],
   "source": [
    "!echo ----------------\n",
    "!echo source of pttrungphuong.py\n",
    "!echo ----------------\n",
    "!type pttrungphuong.py\n",
    "!echo ---------------"
   ]
  },
  {
   "cell_type": "code",
   "execution_count": 22,
   "metadata": {},
   "outputs": [
    {
     "name": "stdout",
     "output_type": "stream",
     "text": [
      "Overwriting pttp_test.in1\n"
     ]
    }
   ],
   "source": [
    "%%writefile pttp_test.in1\n",
    "-1 6 8"
   ]
  },
  {
   "cell_type": "code",
   "execution_count": 23,
   "metadata": {},
   "outputs": [
    {
     "name": "stdout",
     "output_type": "stream",
     "text": [
      "Overwriting pttp_test.in2\n"
     ]
    }
   ],
   "source": [
    "%%writefile pttp_test.in2\n",
    "20 100 -23"
   ]
  },
  {
   "cell_type": "code",
   "execution_count": 24,
   "metadata": {},
   "outputs": [
    {
     "name": "stdout",
     "output_type": "stream",
     "text": [
      "Overwriting pttp_test.in3\n"
     ]
    }
   ],
   "source": [
    "%%writefile pttp_test.in3\n",
    "1 -6 8"
   ]
  },
  {
   "cell_type": "code",
   "execution_count": 25,
   "metadata": {},
   "outputs": [
    {
     "name": "stdout",
     "output_type": "stream",
     "text": [
      "Test1\n"
     ]
    },
    {
     "name": "stdout",
     "output_type": "stream",
     "text": [
      "['-1', '6', '8']\n",
      "-1.0 6.0 8.0\n",
      "None None None None None\n",
      "Test2\n",
      "['20', '100', '-23']\n",
      "20.0 100.0 -23.0\n",
      "None None None None None\n",
      "Test3\n",
      "['1', '-6', '8']\n",
      "1.0 -6.0 8.0\n",
      "4 -2.0 2.0 -1.4142135623730951 1.4142135623730951\n",
      "Phương trình có 4 nghiệm x1 = -2.0; x2 = 2.0; x3 = -1.4142135623730951; x4 = 1.4142135623730951\n"
     ]
    }
   ],
   "source": [
    "!echo Test1\n",
    "!python pttrungphuong.py < pttp_test.in1\n",
    "!echo Test2\n",
    "!python pttrungphuong.py < pttp_test.in2\n",
    "!echo Test3\n",
    "!python pttrungphuong.py < pttp_test.in3"
   ]
  },
  {
   "cell_type": "markdown",
   "metadata": {},
   "source": [
    "#END"
   ]
  }
 ],
 "metadata": {
  "kernelspec": {
   "display_name": "venv",
   "language": "python",
   "name": "python3"
  },
  "language_info": {
   "codemirror_mode": {
    "name": "ipython",
    "version": 3
   },
   "file_extension": ".py",
   "mimetype": "text/x-python",
   "name": "python",
   "nbconvert_exporter": "python",
   "pygments_lexer": "ipython3",
   "version": "3.11.5"
  }
 },
 "nbformat": 4,
 "nbformat_minor": 2
}
