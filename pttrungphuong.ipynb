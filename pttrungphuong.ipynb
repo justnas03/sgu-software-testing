{
 "cells": [
  {
   "cell_type": "markdown",
   "metadata": {},
   "source": [
    "#TEST PHUONG TRINH TRUNG PHUONG"
   ]
  },
  {
   "cell_type": "code",
   "execution_count": 25,
   "metadata": {},
   "outputs": [
    {
     "name": "stdout",
     "output_type": "stream",
     "text": [
      "Overwriting pttrungphuong.py\n"
     ]
    }
   ],
   "source": [
    "%%writefile pttrungphuong.py\n",
    "\n",
    "printd = print\n",
    "# printd = lambda *argc,**argv:()\n",
    "\n",
    "def giaiptb2(a,b,c):\n",
    "    import math\n",
    "    x1,x2,sn = None, None, None\n",
    "    if a == 0: \n",
    "        if b == 0:\n",
    "            if c == 0:\n",
    "                sn = -1\n",
    "            else:\n",
    "                sn = 0\n",
    "        else: \n",
    "            sn = 1\n",
    "            x1 = -c/b\n",
    "    else: \n",
    "        delta = b**2 - 4*a*c\n",
    "        if delta < 0:\n",
    "            sn = 0\n",
    "        elif delta == 0:\n",
    "            sn = 1\n",
    "            x1 = -b/(2*a)\n",
    "        elif delta > 0:\n",
    "            sn = 2\n",
    "            x1 = (-b+math.sqrt(delta))/(2*a)\n",
    "            x2 = (-b-math.sqrt(delta))/(2*a)\n",
    "            if x1 > x2: x1,x2 = x2,x1\n",
    "    return x1,x2,sn\n",
    "\n",
    "\n",
    "\n",
    "def pttp(a,b,c):\n",
    "    import math\n",
    "    sn,x1,x2,x3,x4 = None, None, None, None, None\n",
    "\n",
    "\n",
    "    t1,t2,snt = giaiptb2(a,b,c)\n",
    "    printd(\"t1 = {}, t2 = {}, snt = {}\".format(t1,t2,snt))\n",
    "\n",
    "    if snt == -1:\n",
    "        sn = -1\n",
    "    elif snt == 0:\n",
    "        sn = 0\n",
    "    elif snt == 1:\n",
    "        if t1 > 0:\n",
    "            sn = 2\n",
    "            x1 = -math.sqrt(t1)\n",
    "            x2 = math.sqrt(t1)\n",
    "        if t1 == 0:\n",
    "            sn = 1\n",
    "            x1 = 0\n",
    "        elif t1 < 0:\n",
    "            sn = 0\n",
    "        elif t2 > 0:\n",
    "            sn = 2\n",
    "            x1 = -math.sqrt(t2)\n",
    "            x2 = math.sqrt(t2)\n",
    "        elif t2 == 0:\n",
    "            sn = 1\n",
    "            x1 = 0\n",
    "        else:\n",
    "            sn = 0\n",
    "    elif snt == 2:\n",
    "        if t1 == 0 and t2 > 0:\n",
    "            sn = 3\n",
    "            x1, x2, x3 = 0, -math.sqrt(t2), math.sqrt(t2)\n",
    "        elif t1 > 0 and t2 == 0:\n",
    "            sn = 3\n",
    "            x1, x2, x3 = 0, -math.sqrt(t1), math.sqrt(t1)\n",
    "        elif t1 < 0 and t2 > 0:\n",
    "            sn = 2\n",
    "            x1, x2 = -math.sqrt(t2), math.sqrt(t2)\n",
    "        elif t1 > 0 and t2 > 0:\n",
    "            sn = 4\n",
    "            x1, x2 = -math.sqrt(t1), math.sqrt(t1)\n",
    "            x3, x4 = -math.sqrt(t2), math.sqrt(t2)\n",
    "\n",
    "    return sn,x1,x2,x3,x4\n",
    "\n",
    "def main():\n",
    "    s = input()\n",
    "    printd(s.split(\" \"))\n",
    "    a,b,c = [float(i) for i in s.split(\" \") ]\n",
    "    printd(a,b,c)\n",
    "\n",
    "    sn,x1,x2,x3,x4 = pttp(a,b,c)\n",
    "    printd(\"sn = {}, x1 = {}, x2 = {}, x3 = {}, x4 = {}\".format(sn, x1, x2, x3, x4))\n",
    "\n",
    "    if sn == -1:\n",
    "        print(f\"Phương trình vô số nghiệm\")\n",
    "    elif sn == 0:\n",
    "        print(f\"Phương trình vô nghiệm\")\n",
    "    elif sn == 1:\n",
    "        print(f\"Phương trình có 1 nghiệm x = {x1}\")\n",
    "    elif sn == 2:\n",
    "        print(f\"Phương trình có 2 nghiệm x1 = {x1}; x2 = {x2}\")\n",
    "    elif sn == 3:\n",
    "        print(f\"Phương trình có 3 nghiệm x1 = {x1}; x2 = {x2}; x3 = {x3}\")\n",
    "    elif sn == 4:\n",
    "        print(f\"Phương trình có 4 nghiệm x1 = {x1}; x2 = {x2}; x3 = {x3}; x4 = {x4}\")\n",
    "        \n",
    "if __name__ == \"__main__\":\n",
    "    main()\n"
   ]
  },
  {
   "cell_type": "code",
   "execution_count": 23,
   "metadata": {},
   "outputs": [
    {
     "name": "stdout",
     "output_type": "stream",
     "text": [
      "----------------\n"
     ]
    },
    {
     "name": "stdout",
     "output_type": "stream",
     "text": [
      "source of pttrungphuong.py\n",
      "----------------\n",
      "\n",
      "printd = print\n",
      "# printd = lambda *argc,**argv:()\n",
      "\n",
      "def giaiptb2(a,b,c):\n",
      "    import math\n",
      "    x1,x2,sn = None, None, None\n",
      "    if a == 0: \n",
      "        if b == 0:\n",
      "            if c == 0:\n",
      "                sn = -1\n",
      "            else:\n",
      "                sn = 0\n",
      "        else: \n",
      "            sn = 1\n",
      "            x1 = -c/b\n",
      "    else: \n",
      "        delta = b**2 - 4*a*c\n",
      "        if delta < 0:\n",
      "            sn = 0\n",
      "        elif delta == 0:\n",
      "            sn = 1\n",
      "            x1 = -b/(2*a)\n",
      "        elif delta > 0:\n",
      "            sn = 2\n",
      "            x1 = (-b+math.sqrt(delta))/(2*a)\n",
      "            x2 = (-b-math.sqrt(delta))/(2*a)\n",
      "            if x1 > x2: x1,x2 = x2,x1\n",
      "    return x1,x2,sn\n",
      "\n",
      "\n",
      "\n",
      "def pttp(a,b,c):\n",
      "    import math\n",
      "    sn,x1,x2,x3,x4 = None, None, None, None, None\n",
      "\n",
      "\n",
      "    t1,t2,snt = giaiptb2(a,b,c)\n",
      "    printd(\"t1 = {}, t2 = {}, snt = {}\".format(t1,t2,snt))\n",
      "\n",
      "    if snt == -1:\n",
      "        sn = -1\n",
      "    elif snt == 0:\n",
      "        sn = 0\n",
      "    elif snt == 1:\n",
      "        if t1 > 0:\n",
      "            sn = 2\n",
      "            x1 = -math.sqrt(t1)\n",
      "            x2 = math.sqrt(t1)\n",
      "        if t1 == 0:\n",
      "            sn = 1\n",
      "            x1 = 0\n",
      "        elif t1 < 0:\n",
      "            sn = 0\n",
      "        elif t2 > 0:\n",
      "            sn = 2\n",
      "            x1 = -math.sqrt(t2)\n",
      "            x2 = math.sqrt(t2)\n",
      "        elif t2 == 0:\n",
      "            sn = 1\n",
      "            x1 = 0\n",
      "        else:\n",
      "            sn = 0\n",
      "    elif snt == 2:\n",
      "        if t1 == 0 and t2 > 0:\n",
      "            sn = 3\n",
      "            x1, x2, x3 = 0, -math.sqrt(t2), math.sqrt(t2)\n",
      "        elif t1 > 0 and t2 == 0:\n",
      "            sn = 3\n",
      "            x1, x2, x3 = 0, -math.sqrt(t1), math.sqrt(t1)\n",
      "        elif t1 < 0 and t2 > 0:\n",
      "            sn = 2\n",
      "            x1, x2 = -math.sqrt(t2), math.sqrt(t2)\n",
      "        elif t1 > 0 and t2 > 0:\n",
      "            sn = 4\n",
      "            x1, x2 = -math.sqrt(t1), math.sqrt(t1)\n",
      "            x3, x4 = -math.sqrt(t2), math.sqrt(t2)\n",
      "\n",
      "    return sn,x1,x2,x3,x4\n",
      "\n",
      "def main():\n",
      "    s = input()\n",
      "    printd(s.split(\" \"))\n",
      "    a,b,c = [float(i) for i in s.split(\" \") ]\n",
      "    printd(a,b,c)\n",
      "\n",
      "    sn,x1,x2,x3,x4 = pttp(a,b,c)\n",
      "    printd(\"sn = {}, x1 = {}, x2 = {}, x3 = {}, x4 = {}\".format(sn, x1, x2, x3, x4))\n",
      "\n",
      "    if sn == -1:\n",
      "        print(f\"Phương trình vô số nghiệm\")\n",
      "    elif sn == 0:\n",
      "        print(f\"Phương trình vô nghiệm\")\n",
      "    elif sn == 1:\n",
      "        print(f\"Phương trình có 1 nghiệm x = {x1}\")\n",
      "    elif sn == 2:\n",
      "        print(f\"Phương trình có 2 nghiệm x1 = {x1}; x2 = {x2}\")\n",
      "    elif sn == 3:\n",
      "        print(f\"Phương trình có 3 nghiệm x1 = {x1}; x2 = {x2}; x3 = {x3}\")\n",
      "    elif sn == 4:\n",
      "        print(f\"Phương trình có 4 nghiệm x1 = {x1}; x2 = {x2}; x3 = {x3}; x4 = {x4}\")\n",
      "        \n",
      "if __name__ == \"__main__\":\n",
      "    main()\n",
      "---------------\n"
     ]
    }
   ],
   "source": [
    "!echo ----------------\n",
    "!echo source of pttrungphuong.py\n",
    "!echo ----------------\n",
    "!type pttrungphuong.py\n",
    "!echo ---------------"
   ]
  },
  {
   "cell_type": "code",
   "execution_count": 17,
   "metadata": {},
   "outputs": [
    {
     "name": "stdout",
     "output_type": "stream",
     "text": [
      "Overwriting pttp_test.in1\n"
     ]
    }
   ],
   "source": [
    "%%writefile pttp_test.in1\n",
    "-1 6 8"
   ]
  },
  {
   "cell_type": "code",
   "execution_count": 18,
   "metadata": {},
   "outputs": [
    {
     "name": "stdout",
     "output_type": "stream",
     "text": [
      "Overwriting pttp_test.in2\n"
     ]
    }
   ],
   "source": [
    "%%writefile pttp_test.in2\n",
    "20 100 -23"
   ]
  },
  {
   "cell_type": "code",
   "execution_count": 19,
   "metadata": {},
   "outputs": [
    {
     "name": "stdout",
     "output_type": "stream",
     "text": [
      "Overwriting pttp_test.in3\n"
     ]
    }
   ],
   "source": [
    "%%writefile pttp_test.in3\n",
    "1 -6 8"
   ]
  },
  {
   "cell_type": "code",
   "execution_count": 20,
   "metadata": {},
   "outputs": [
    {
     "name": "stdout",
     "output_type": "stream",
     "text": [
      "Overwriting pttp_test.in4\n"
     ]
    }
   ],
   "source": [
    "%%writefile pttp_test.in4\n",
    "0 2 3"
   ]
  },
  {
   "cell_type": "code",
   "execution_count": 27,
   "metadata": {},
   "outputs": [
    {
     "name": "stdout",
     "output_type": "stream",
     "text": [
      "-------------------------\n",
      "Test1\n",
      "['-1', '6', '8']\n",
      "-1.0 6.0 8.0\n",
      "t1 = -1.1231056256176606, t2 = 7.123105625617661, snt = 2\n",
      "sn = 2, x1 = -2.668914690584482, x2 = 2.668914690584482, x3 = None, x4 = None\n",
      "Phương trình có 2 nghiệm x1 = -2.668914690584482; x2 = 2.668914690584482\n",
      "-------------------------\n",
      "Test2\n",
      "['20', '100', '-23']\n",
      "20.0 100.0 -23.0\n",
      "t1 = -5.220294101747089, t2 = 0.2202941017470888, snt = 2\n",
      "sn = 2, x1 = -0.46935498478985904, x2 = 0.46935498478985904, x3 = None, x4 = None\n",
      "Phương trình có 2 nghiệm x1 = -0.46935498478985904; x2 = 0.46935498478985904\n",
      "-------------------------\n",
      "Test3\n",
      "['1', '-6', '8']\n",
      "1.0 -6.0 8.0\n",
      "t1 = 2.0, t2 = 4.0, snt = 2\n",
      "sn = 4, x1 = -1.4142135623730951, x2 = 1.4142135623730951, x3 = -2.0, x4 = 2.0\n",
      "Phương trình có 4 nghiệm x1 = -1.4142135623730951; x2 = 1.4142135623730951; x3 = -2.0; x4 = 2.0\n",
      "-------------------------\n",
      "Test4\n",
      "['0', '2', '3']\n",
      "0.0 2.0 3.0\n",
      "t1 = -1.5, t2 = None, snt = 1\n",
      "sn = 0, x1 = None, x2 = None, x3 = None, x4 = None\n",
      "Phương trình vô nghiệm\n"
     ]
    }
   ],
   "source": [
    "!echo -------------------------\n",
    "!echo Test1\n",
    "!python pttrungphuong.py < pttp_test.in1\n",
    "!echo -------------------------\n",
    "!echo Test2\n",
    "!python pttrungphuong.py < pttp_test.in2\n",
    "!echo -------------------------\n",
    "!echo Test3\n",
    "!python pttrungphuong.py < pttp_test.in3\n",
    "!echo -------------------------\n",
    "!echo Test4\n",
    "!python pttrungphuong.py < pttp_test.in4"
   ]
  },
  {
   "cell_type": "markdown",
   "metadata": {},
   "source": [
    "#END"
   ]
  }
 ],
 "metadata": {
  "kernelspec": {
   "display_name": "venv",
   "language": "python",
   "name": "python3"
  },
  "language_info": {
   "codemirror_mode": {
    "name": "ipython",
    "version": 3
   },
   "file_extension": ".py",
   "mimetype": "text/x-python",
   "name": "python",
   "nbconvert_exporter": "python",
   "pygments_lexer": "ipython3",
   "version": "3.11.5"
  }
 },
 "nbformat": 4,
 "nbformat_minor": 2
}
