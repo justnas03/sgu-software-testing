!echo ----------------
!echo source of ptb2.py
!echo ----------------
!type ptb2.py
!echo ---------------