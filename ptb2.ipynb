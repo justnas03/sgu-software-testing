{
 "cells": [
  {
   "cell_type": "markdown",
   "metadata": {},
   "source": [
    "#TEST PHUONG TRINH BAC 2"
   ]
  },
  {
   "cell_type": "code",
   "execution_count": 1,
   "metadata": {},
   "outputs": [
    {
     "name": "stdout",
     "output_type": "stream",
     "text": [
      " Volume in drive E is DATA\n",
      " Volume Serial Number is 08C2-F1DB\n",
      "\n",
      " Directory of e:\\Study Stuff\\.kiem-thu-phan-mem\n",
      "\n",
      "09/12/2024  04:10 PM    <DIR>          .\n",
      "09/10/2024  01:22 PM    <DIR>          ..\n",
      "09/10/2024  03:56 PM               813 old.ptb2.py\n",
      "09/10/2024  03:46 PM             2,625 old.pttrungphuong.py\n",
      "09/12/2024  04:10 PM             9,279 ptb2.ipynb\n",
      "09/11/2024  02:07 PM             1,175 ptb2.py\n",
      "09/11/2024  01:50 PM                 8 ptb2_test.in1\n",
      "09/11/2024  01:50 PM                 7 ptb2_test.in2\n",
      "09/11/2024  01:50 PM                 8 ptb2_test.in3\n",
      "09/12/2024  04:10 PM                12 ptb2_test.in4\n",
      "09/10/2024  04:19 PM               358 pttp.txt\n",
      "09/12/2024  04:35 PM                 8 pttp_test.in1\n",
      "09/12/2024  04:35 PM                12 pttp_test.in2\n",
      "09/12/2024  04:35 PM                 8 pttp_test.in3\n",
      "09/12/2024  04:35 PM                 7 pttp_test.in4\n",
      "09/12/2024  04:10 PM            11,063 pttrungphuong.ipynb\n",
      "09/12/2024  04:35 PM             2,718 pttrungphuong.py\n",
      "09/12/2024  04:10 PM             1,745 README.md\n",
      "09/10/2024  04:53 PM               579 sdsd.txt\n",
      "09/11/2024  01:38 PM               105 tempCodeRunnerFile.ipynb\n",
      "09/11/2024  01:39 PM                38 tempCodeRunnerFile.py\n",
      "09/11/2024  01:18 PM                21 test.py\n",
      "09/10/2024  02:20 PM    <DIR>          venv\n",
      "              20 File(s)         30,589 bytes\n",
      "               3 Dir(s)  264,908,541,952 bytes free\n"
     ]
    }
   ],
   "source": [
    "!dir"
   ]
  },
  {
   "cell_type": "markdown",
   "metadata": {},
   "source": [
    "#Test Giải Phương Trình Bậc 2"
   ]
  },
  {
   "cell_type": "code",
   "execution_count": 2,
   "metadata": {},
   "outputs": [
    {
     "name": "stdout",
     "output_type": "stream",
     "text": [
      "Overwriting ptb2.py\n"
     ]
    }
   ],
   "source": [
    "%%writefile ptb2.py\n",
    "import math\n",
    "\n",
    "#printd = print\n",
    "printd = lambda *argc,**argv:()\n",
    "\n",
    "\n",
    "\n",
    "def giaiptb2(a,b,c):\n",
    "    x1,x2,sn = None, None, None\n",
    "    if a == 0: \n",
    "        if b == 0:\n",
    "            if c == 0:\n",
    "                sn = -1\n",
    "            else:\n",
    "                sn = 0\n",
    "        else: \n",
    "            sn = 1\n",
    "            x1 = -c/b\n",
    "    else: \n",
    "        delta = b**2 - 4*a*c\n",
    "        if delta < 0:\n",
    "            sn = 0\n",
    "        elif delta == 0:\n",
    "            sn = 1\n",
    "            x1 = -b/2*a\n",
    "        elif delta > 0:\n",
    "            sn = 2\n",
    "            x1 = (-b-math.sqrt(delta))/2*a\n",
    "            x2 = (-b+math.sqrt(delta))/2*a\n",
    "            if x1 > x2: x1, x2 = x2, x1\n",
    "            \n",
    "    return x1,x2,sn\n",
    "\n",
    "printd(giaiptb2(1,0,1))\n",
    "\n",
    "def main():\n",
    "    \n",
    "    s = input(\"\")\n",
    "    a,b,c = [float(x) for x in s.split(\" \")]\n",
    "\n",
    "    x1,x2,sn = giaiptb2(a,b,c)\n",
    "\n",
    "    if sn == -1:\n",
    "        print(f\"Phương trình vô nghiệm\")\n",
    "    elif sn == 0:\n",
    "        print(f\"Phương trình vô nghiệm\")\n",
    "    elif sn == 1:\n",
    "        print(f\"Phương trình có 1 nghiệm: x = {x1}\")\n",
    "    elif sn == 2:\n",
    "        print(f\"Phương trình có 2 nghiệm: x1 = {x1}, x2 = {x2}\")\n",
    "\n",
    "\n",
    "if __name__ == \"__main__\":\n",
    "    main()\n"
   ]
  },
  {
   "cell_type": "code",
   "execution_count": 3,
   "metadata": {},
   "outputs": [
    {
     "name": "stdout",
     "output_type": "stream",
     "text": [
      "----------------\n",
      "source of ptb2.py\n",
      "----------------\n",
      "import math\n",
      "\n",
      "#printd = print\n",
      "printd = lambda *argc,**argv:()\n",
      "\n",
      "\n",
      "\n",
      "def giaiptb2(a,b,c):\n",
      "    x1,x2,sn = None, None, None\n",
      "    if a == 0: \n",
      "        if b == 0:\n",
      "            if c == 0:\n",
      "                sn = -1\n",
      "            else:\n",
      "                sn = 0\n",
      "        else: \n",
      "            sn = 1\n",
      "            x1 = -c/b\n",
      "    else: \n",
      "        delta = b**2 - 4*a*c\n",
      "        if delta < 0:\n",
      "            sn = 0\n",
      "        elif delta == 0:\n",
      "            sn = 1\n",
      "            x1 = -b/2*a\n",
      "        elif delta > 0:\n",
      "            sn = 2\n",
      "            x1 = (-b-math.sqrt(delta))/2*a\n",
      "            x2 = (-b+math.sqrt(delta))/2*a\n",
      "            if x1 > x2: x1, x2 = x2, x1\n",
      "            \n",
      "    return x1,x2,sn\n",
      "\n",
      "printd(giaiptb2(1,0,1))\n",
      "\n",
      "def main():\n",
      "    \n",
      "    s = input(\"\")\n",
      "    a,b,c = [float(x) for x in s.split(\" \")]\n",
      "\n",
      "    x1,x2,sn = giaiptb2(a,b,c)\n",
      "\n",
      "    if sn == -1:\n",
      "        print(f\"Phương trình vô nghiệm\")\n",
      "    elif sn == 0:\n",
      "        print(f\"Phương trình vô nghiệm\")\n",
      "    elif sn == 1:\n",
      "        print(f\"Phương trình có 1 nghiệm: x = {x1}\")\n",
      "    elif sn == 2:\n",
      "        print(f\"Phương trình có 2 nghiệm: x1 = {x1}, x2 = {x2}\")\n",
      "\n",
      "\n",
      "if __name__ == \"__main__\":\n",
      "    main()\n",
      "---------------\n"
     ]
    }
   ],
   "source": [
    "!echo ----------------\n",
    "!echo source of ptb2.py\n",
    "!echo ----------------\n",
    "!type ptb2.py\n",
    "!echo ---------------"
   ]
  },
  {
   "cell_type": "code",
   "execution_count": 4,
   "metadata": {},
   "outputs": [
    {
     "name": "stdout",
     "output_type": "stream",
     "text": [
      "Overwriting ptb2_test.in1\n"
     ]
    }
   ],
   "source": [
    "%%writefile ptb2_test.in1\n",
    "-1 6 8"
   ]
  },
  {
   "cell_type": "code",
   "execution_count": 5,
   "metadata": {},
   "outputs": [
    {
     "name": "stdout",
     "output_type": "stream",
     "text": [
      "Overwriting ptb2_test.in2\n"
     ]
    }
   ],
   "source": [
    "%%writefile ptb2_test.in2\n",
    "2 2 1"
   ]
  },
  {
   "cell_type": "code",
   "execution_count": 6,
   "metadata": {},
   "outputs": [
    {
     "name": "stdout",
     "output_type": "stream",
     "text": [
      "Overwriting ptb2_test.in3\n"
     ]
    }
   ],
   "source": [
    "%%writefile ptb2_test.in3\n",
    "1 -6 8"
   ]
  },
  {
   "cell_type": "code",
   "execution_count": 7,
   "metadata": {},
   "outputs": [
    {
     "name": "stdout",
     "output_type": "stream",
     "text": [
      "Overwriting ptb2_test.in4\n"
     ]
    }
   ],
   "source": [
    "%%writefile ptb2_test.in4\n",
    "20 100 -23"
   ]
  },
  {
   "cell_type": "code",
   "execution_count": 8,
   "metadata": {},
   "outputs": [
    {
     "name": "stdout",
     "output_type": "stream",
     "text": [
      "Test1\n"
     ]
    },
    {
     "name": "stdout",
     "output_type": "stream",
     "text": [
      "Phương trình có 2 nghiệm: x1 = -1.1231056256176606, x2 = 7.123105625617661\n",
      "Test2\n",
      "Phương trình vô nghiệm\n",
      "Test3\n",
      "Phương trình có 2 nghiệm: x1 = 2.0, x2 = 4.0\n",
      "Test4\n",
      "Phương trình có 2 nghiệm: x1 = -2088.1176406988357, x2 = 88.11764069883552\n"
     ]
    }
   ],
   "source": [
    "!echo Test1\n",
    "!python ptb2.py < ptb2_test.in1\n",
    "!echo Test2\n",
    "!python ptb2.py < ptb2_test.in2\n",
    "!echo Test3\n",
    "!python ptb2.py < ptb2_test.in3\n",
    "!echo Test4\n",
    "!python ptb2.py < ptb2_test.in4"
   ]
  },
  {
   "cell_type": "markdown",
   "metadata": {},
   "source": [
    "#END"
   ]
  }
 ],
 "metadata": {
  "kernelspec": {
   "display_name": "venv",
   "language": "python",
   "name": "python3"
  },
  "language_info": {
   "codemirror_mode": {
    "name": "ipython",
    "version": 3
   },
   "file_extension": ".py",
   "mimetype": "text/x-python",
   "name": "python",
   "nbconvert_exporter": "python",
   "pygments_lexer": "ipython3",
   "version": "3.11.5"
  }
 },
 "nbformat": 4,
 "nbformat_minor": 2
}
