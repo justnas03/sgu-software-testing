{
 "cells": [
  {
   "cell_type": "markdown",
   "metadata": {},
   "source": [
    "#TEST PHUONG TRINH BAC 2"
   ]
  },
  {
   "cell_type": "code",
   "execution_count": 29,
   "metadata": {},
   "outputs": [
    {
     "name": "stdout",
     "output_type": "stream",
     "text": [
      " Volume in drive E is DATA\n",
      " Volume Serial Number is 08C2-F1DB\n",
      "\n",
      " Directory of e:\\Study Stuff\\.kiem-thu-phan-mem\n",
      "\n",
      "09/10/2024  02:32 PM    <DIR>          .\n",
      "09/10/2024  01:22 PM    <DIR>          ..\n",
      "09/10/2024  02:18 PM                 0 ptb2.ipynb\n",
      "09/10/2024  01:47 PM               752 ptb2.py\n",
      "09/10/2024  02:32 PM                 8 ptb2_test.in1\n",
      "09/10/2024  02:02 PM             1,883 pttrungphuong.py\n",
      "09/10/2024  02:09 PM               348 sdsd.txt\n",
      "09/10/2024  02:20 PM    <DIR>          venv\n",
      "               5 File(s)          2,991 bytes\n",
      "               3 Dir(s)  263,466,713,088 bytes free\n"
     ]
    }
   ],
   "source": [
    "!dir"
   ]
  },
  {
   "cell_type": "markdown",
   "metadata": {},
   "source": [
    "#Test Giải Phương Trình Bậc 2"
   ]
  },
  {
   "cell_type": "code",
   "execution_count": 39,
   "metadata": {},
   "outputs": [
    {
     "name": "stdout",
     "output_type": "stream",
     "text": [
      "----------------\n",
      "source of ptb2.py\n",
      "----------------\n",
      "def ptb2(a, b, c):\n",
      "    if a == 0:\n",
      "        if b == 0:\n",
      "            if c == 0:\n",
      "                print(\"Phương trình vô số nghiệm\")\n",
      "            else:\n",
      "                print(\"Phương trình vô nghiệm\")\n",
      "        else:\n",
      "            print(\"Phương trình có nghiệm x = {:.4f}\".format(-c/b))\n",
      "    if a != 0:\n",
      "        delta = b**2 - 4*a*c\n",
      "        if delta < 0:\n",
      "            print(\"Phương trình vô nghiệm\")\n",
      "        elif delta == 0:\n",
      "            print(\"Phương trình có nghiệm kép x = {:.4f}\".format(-b/(2*a)))\n",
      "        else:\n",
      "            print(\"Phương trình có 2 nghiệm phân biệt x1 = {:.4f} và x2 = {:.4f}\".format((-b + delta**0.5)/(2*a), (-b - delta**0.5)/(2*a)))\n",
      "\n",
      "\n",
      "def main():\n",
      "    s = input()\n",
      "    a,b,c = [float(x) for x in s.split(\" \")]\n",
      "    ptb2(a,b,c)\n",
      "\n",
      "\n",
      "main()\n",
      "\n",
      "\n",
      "---------------\n"
     ]
    }
   ],
   "source": [
    "!echo ----------------\n",
    "!echo source of ptb2.py\n",
    "!echo ----------------\n",
    "!type ptb2.py\n",
    "!echo ---------------"
   ]
  },
  {
   "cell_type": "code",
   "execution_count": 31,
   "metadata": {},
   "outputs": [
    {
     "name": "stdout",
     "output_type": "stream",
     "text": [
      "Overwriting ptb2_test.in1\n"
     ]
    }
   ],
   "source": [
    "%%writefile ptb2_test.in1\n",
    "-1 6 8"
   ]
  },
  {
   "cell_type": "code",
   "execution_count": 32,
   "metadata": {},
   "outputs": [
    {
     "name": "stdout",
     "output_type": "stream",
     "text": [
      "Writing ptb2_test.in2\n"
     ]
    }
   ],
   "source": [
    "%%writefile ptb2_test.in2\n",
    "2 2 1"
   ]
  },
  {
   "cell_type": "code",
   "execution_count": 33,
   "metadata": {},
   "outputs": [
    {
     "name": "stdout",
     "output_type": "stream",
     "text": [
      "Writing ptb2_test.in3\n"
     ]
    }
   ],
   "source": [
    "%%writefile ptb2_test.in3\n",
    "0 0 1"
   ]
  },
  {
   "cell_type": "code",
   "execution_count": 34,
   "metadata": {},
   "outputs": [
    {
     "name": "stdout",
     "output_type": "stream",
     "text": [
      "Writing ptb2_test.in4\n"
     ]
    }
   ],
   "source": [
    "%%writefile ptb2_test.in4\n",
    "0 0 0"
   ]
  },
  {
   "cell_type": "code",
   "execution_count": 37,
   "metadata": {},
   "outputs": [
    {
     "name": "stdout",
     "output_type": "stream",
     "text": [
      "Test1\n",
      "Phương trình có 2 nghiệm phân biệt x1 = -1.1231 và x2 = 7.1231\n",
      "Test2\n",
      "Phương trình vô nghiệm\n",
      "Test3\n",
      "Phương trình vô nghiệm\n",
      "Test4\n",
      "Phương trình vô số nghiệm\n"
     ]
    }
   ],
   "source": [
    "!echo Test1\n",
    "!python ptb2.py < ptb2_test.in1\n",
    "!echo Test2\n",
    "!python ptb2.py < ptb2_test.in2\n",
    "!echo Test3\n",
    "!python ptb2.py < ptb2_test.in3\n",
    "!echo Test4\n",
    "!python ptb2.py < ptb2_test.in4"
   ]
  },
  {
   "cell_type": "markdown",
   "metadata": {},
   "source": [
    "#END"
   ]
  }
 ],
 "metadata": {
  "kernelspec": {
   "display_name": "venv",
   "language": "python",
   "name": "python3"
  },
  "language_info": {
   "codemirror_mode": {
    "name": "ipython",
    "version": 3
   },
   "file_extension": ".py",
   "mimetype": "text/x-python",
   "name": "python",
   "nbconvert_exporter": "python",
   "pygments_lexer": "ipython3",
   "version": "3.11.5"
  }
 },
 "nbformat": 4,
 "nbformat_minor": 2
}
